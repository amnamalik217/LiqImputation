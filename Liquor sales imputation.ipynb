{
 "cells": [
  {
   "cell_type": "markdown",
   "id": "2963d7d6",
   "metadata": {},
   "source": [
    "## <center> Liquor Sales Imputation  </center>"
   ]
  },
  {
   "cell_type": "markdown",
   "id": "dffe650f",
   "metadata": {},
   "source": [
    "### Imputation\n",
    "*    The different techniques and models used for imputation are:\n",
    "*    - Mean for numerical variables\n",
    "     - Simple Imputer with mean\n",
    "     - Simple Imputer with median\n",
    "     - Simple Imputer with mode\n",
    "     - Iterative Imputer with mean \n",
    "     - Iterative Imputer with median \n",
    "     - Iterative Imputer with mode \n",
    "     - Iterative Imputer with extra tree regressor\n",
    "     - Iterative Imputer with bayesian ridge\n",
    "     - Imputation with KNN imputer\n",
    "     \n",
    "\n",
    "*    Columns imputed are sale_dollars, pack, bottle_volume_ml, state_bottle_cost, state_bottle_retail, bottles_sold, \n",
    "     volume_sold_liters and volume_sold_gallons. Rest of the columns are object type and were left as is because imputing \n",
    "     them with mode would have given biased data. Intuition behind this decision is that if a specific liquor category is \n",
    "     imputed (due to mode) it will not be a true representative of the data. It will show an exorbitant number of sales of \n",
    "     that category when that in reality does not hold true. "
   ]
  },
  {
   "cell_type": "code",
   "execution_count": 1,
   "id": "46a3b423",
   "metadata": {},
   "outputs": [],
   "source": [
    "from sklearn.experimental import enable_iterative_imputer  \n",
    "from sklearn.impute import IterativeImputer\n",
    "from sklearn.linear_model import LinearRegression\n",
    "from sklearn.model_selection import train_test_split\n",
    "from sklearn.impute import SimpleImputer\n",
    "from sklearn.impute import KNNImputer\n",
    "from sklearn.linear_model import BayesianRidge\n",
    "from sklearn.ensemble import ExtraTreesRegressor\n",
    "import numpy as np\n",
    "from numpy import nan\n",
    "from numpy import isnan\n",
    "import pandas as pd"
   ]
  },
  {
   "cell_type": "code",
   "execution_count": 2,
   "id": "b2b3099d",
   "metadata": {},
   "outputs": [],
   "source": [
    "liquor = pd.read_csv(\"Iowa Liq Final.csv\")"
   ]
  },
  {
   "cell_type": "code",
   "execution_count": 3,
   "id": "c296d25a",
   "metadata": {},
   "outputs": [
    {
     "data": {
      "text/html": [
       "<div>\n",
       "<style scoped>\n",
       "    .dataframe tbody tr th:only-of-type {\n",
       "        vertical-align: middle;\n",
       "    }\n",
       "\n",
       "    .dataframe tbody tr th {\n",
       "        vertical-align: top;\n",
       "    }\n",
       "\n",
       "    .dataframe thead th {\n",
       "        text-align: right;\n",
       "    }\n",
       "</style>\n",
       "<table border=\"1\" class=\"dataframe\">\n",
       "  <thead>\n",
       "    <tr style=\"text-align: right;\">\n",
       "      <th></th>\n",
       "      <th>invoice_and_item_number</th>\n",
       "      <th>date</th>\n",
       "      <th>store_number</th>\n",
       "      <th>store_name</th>\n",
       "      <th>address</th>\n",
       "      <th>city</th>\n",
       "      <th>zip_code</th>\n",
       "      <th>county_number</th>\n",
       "      <th>county</th>\n",
       "      <th>category</th>\n",
       "      <th>...</th>\n",
       "      <th>item_number</th>\n",
       "      <th>item_description</th>\n",
       "      <th>pack</th>\n",
       "      <th>bottle_volume_ml</th>\n",
       "      <th>state_bottle_cost</th>\n",
       "      <th>state_bottle_retail</th>\n",
       "      <th>bottles_sold</th>\n",
       "      <th>volume_sold_liters</th>\n",
       "      <th>volume_sold_gallons</th>\n",
       "      <th>sale_dollars</th>\n",
       "    </tr>\n",
       "  </thead>\n",
       "  <tbody>\n",
       "    <tr>\n",
       "      <th>0</th>\n",
       "      <td>INV-33179700135</td>\n",
       "      <td>4/1/2021</td>\n",
       "      <td>2576.0</td>\n",
       "      <td>Hy-Vee Wine and Spirits / Storm Lake</td>\n",
       "      <td>1250 N Lake St</td>\n",
       "      <td>Storm Lake</td>\n",
       "      <td>50588.0</td>\n",
       "      <td>11.0</td>\n",
       "      <td>BUENA VIST</td>\n",
       "      <td>1081600.0</td>\n",
       "      <td>...</td>\n",
       "      <td>64870.0</td>\n",
       "      <td>Fireball Cinnamon Whiskey</td>\n",
       "      <td>48.0</td>\n",
       "      <td>100.0</td>\n",
       "      <td>0.90</td>\n",
       "      <td>1.35</td>\n",
       "      <td>48.0</td>\n",
       "      <td>4.8</td>\n",
       "      <td>1.26</td>\n",
       "      <td>64.80</td>\n",
       "    </tr>\n",
       "    <tr>\n",
       "      <th>1</th>\n",
       "      <td>INV-33196200106</td>\n",
       "      <td>4/1/2021</td>\n",
       "      <td>2649.0</td>\n",
       "      <td>Hy-Vee #3 / Dubuque</td>\n",
       "      <td>400 Locust St</td>\n",
       "      <td>Dubuque</td>\n",
       "      <td>52001.0</td>\n",
       "      <td>31.0</td>\n",
       "      <td>DUBUQUE</td>\n",
       "      <td>1081200.0</td>\n",
       "      <td>...</td>\n",
       "      <td>65200.0</td>\n",
       "      <td>Tequila Rose Liqueur</td>\n",
       "      <td>12.0</td>\n",
       "      <td>750.0</td>\n",
       "      <td>11.50</td>\n",
       "      <td>17.25</td>\n",
       "      <td>4.0</td>\n",
       "      <td>3.0</td>\n",
       "      <td>0.79</td>\n",
       "      <td>69.00</td>\n",
       "    </tr>\n",
       "    <tr>\n",
       "      <th>2</th>\n",
       "      <td>INV-33184300011</td>\n",
       "      <td>4/1/2021</td>\n",
       "      <td>2539.0</td>\n",
       "      <td>Hy-Vee Food Store / Iowa Falls</td>\n",
       "      <td>640 S. Oak</td>\n",
       "      <td>Iowa Falls</td>\n",
       "      <td>50126.0</td>\n",
       "      <td>42.0</td>\n",
       "      <td>HARDIN</td>\n",
       "      <td>1031100.0</td>\n",
       "      <td>...</td>\n",
       "      <td>38008.0</td>\n",
       "      <td>Smirnoff 80prf PET</td>\n",
       "      <td>6.0</td>\n",
       "      <td>1750.0</td>\n",
       "      <td>14.75</td>\n",
       "      <td>22.13</td>\n",
       "      <td>6.0</td>\n",
       "      <td>10.5</td>\n",
       "      <td>2.77</td>\n",
       "      <td>132.78</td>\n",
       "    </tr>\n",
       "    <tr>\n",
       "      <th>3</th>\n",
       "      <td>INV-33184100015</td>\n",
       "      <td>4/1/2021</td>\n",
       "      <td>4024.0</td>\n",
       "      <td>Wal-Mart 1546 / Iowa Falls</td>\n",
       "      <td>840 S Oak</td>\n",
       "      <td>Iowa Falls</td>\n",
       "      <td>50126.0</td>\n",
       "      <td>42.0</td>\n",
       "      <td>HARDIN</td>\n",
       "      <td>1031100.0</td>\n",
       "      <td>...</td>\n",
       "      <td>36648.0</td>\n",
       "      <td>Caliber Vodka</td>\n",
       "      <td>12.0</td>\n",
       "      <td>750.0</td>\n",
       "      <td>3.31</td>\n",
       "      <td>4.97</td>\n",
       "      <td>12.0</td>\n",
       "      <td>9.0</td>\n",
       "      <td>2.37</td>\n",
       "      <td>59.64</td>\n",
       "    </tr>\n",
       "    <tr>\n",
       "      <th>4</th>\n",
       "      <td>INV-33174200025</td>\n",
       "      <td>4/1/2021</td>\n",
       "      <td>5385.0</td>\n",
       "      <td>Vine Food &amp; Liquor</td>\n",
       "      <td>2704 Vine St.</td>\n",
       "      <td>West Des Moines</td>\n",
       "      <td>50265.0</td>\n",
       "      <td>77.0</td>\n",
       "      <td>POLK</td>\n",
       "      <td>1012200.0</td>\n",
       "      <td>...</td>\n",
       "      <td>4626.0</td>\n",
       "      <td>Buchanan Deluxe 12YR</td>\n",
       "      <td>12.0</td>\n",
       "      <td>750.0</td>\n",
       "      <td>20.99</td>\n",
       "      <td>31.49</td>\n",
       "      <td>2.0</td>\n",
       "      <td>1.5</td>\n",
       "      <td>0.39</td>\n",
       "      <td>62.98</td>\n",
       "    </tr>\n",
       "  </tbody>\n",
       "</table>\n",
       "<p>5 rows × 23 columns</p>\n",
       "</div>"
      ],
      "text/plain": [
       "  invoice_and_item_number      date  store_number  \\\n",
       "0         INV-33179700135  4/1/2021        2576.0   \n",
       "1         INV-33196200106  4/1/2021        2649.0   \n",
       "2         INV-33184300011  4/1/2021        2539.0   \n",
       "3         INV-33184100015  4/1/2021        4024.0   \n",
       "4         INV-33174200025  4/1/2021        5385.0   \n",
       "\n",
       "                             store_name         address             city  \\\n",
       "0  Hy-Vee Wine and Spirits / Storm Lake  1250 N Lake St       Storm Lake   \n",
       "1                   Hy-Vee #3 / Dubuque   400 Locust St          Dubuque   \n",
       "2        Hy-Vee Food Store / Iowa Falls      640 S. Oak       Iowa Falls   \n",
       "3            Wal-Mart 1546 / Iowa Falls       840 S Oak       Iowa Falls   \n",
       "4                    Vine Food & Liquor   2704 Vine St.  West Des Moines   \n",
       "\n",
       "   zip_code  county_number      county   category  ... item_number  \\\n",
       "0   50588.0           11.0  BUENA VIST  1081600.0  ...     64870.0   \n",
       "1   52001.0           31.0     DUBUQUE  1081200.0  ...     65200.0   \n",
       "2   50126.0           42.0      HARDIN  1031100.0  ...     38008.0   \n",
       "3   50126.0           42.0      HARDIN  1031100.0  ...     36648.0   \n",
       "4   50265.0           77.0        POLK  1012200.0  ...      4626.0   \n",
       "\n",
       "            item_description  pack  bottle_volume_ml state_bottle_cost  \\\n",
       "0  Fireball Cinnamon Whiskey  48.0             100.0              0.90   \n",
       "1       Tequila Rose Liqueur  12.0             750.0             11.50   \n",
       "2         Smirnoff 80prf PET   6.0            1750.0             14.75   \n",
       "3              Caliber Vodka  12.0             750.0              3.31   \n",
       "4       Buchanan Deluxe 12YR  12.0             750.0             20.99   \n",
       "\n",
       "   state_bottle_retail  bottles_sold  volume_sold_liters  volume_sold_gallons  \\\n",
       "0                 1.35          48.0                 4.8                 1.26   \n",
       "1                17.25           4.0                 3.0                 0.79   \n",
       "2                22.13           6.0                10.5                 2.77   \n",
       "3                 4.97          12.0                 9.0                 2.37   \n",
       "4                31.49           2.0                 1.5                 0.39   \n",
       "\n",
       "   sale_dollars  \n",
       "0         64.80  \n",
       "1         69.00  \n",
       "2        132.78  \n",
       "3         59.64  \n",
       "4         62.98  \n",
       "\n",
       "[5 rows x 23 columns]"
      ]
     },
     "execution_count": 3,
     "metadata": {},
     "output_type": "execute_result"
    }
   ],
   "source": [
    "liquor.head()"
   ]
  },
  {
   "cell_type": "code",
   "execution_count": 4,
   "id": "8132207f",
   "metadata": {},
   "outputs": [
    {
     "data": {
      "text/plain": [
       "(983741, 23)"
      ]
     },
     "execution_count": 4,
     "metadata": {},
     "output_type": "execute_result"
    }
   ],
   "source": [
    "liquor.shape"
   ]
  },
  {
   "cell_type": "code",
   "execution_count": 5,
   "id": "fee5f0d1",
   "metadata": {},
   "outputs": [
    {
     "name": "stdout",
     "output_type": "stream",
     "text": [
      "<class 'pandas.core.frame.DataFrame'>\n",
      "RangeIndex: 983741 entries, 0 to 983740\n",
      "Data columns (total 23 columns):\n",
      " #   Column                   Non-Null Count   Dtype  \n",
      "---  ------                   --------------   -----  \n",
      " 0   invoice_and_item_number  979697 non-null  object \n",
      " 1   date                     979287 non-null  object \n",
      " 2   store_number             958205 non-null  float64\n",
      " 3   store_name               960273 non-null  object \n",
      " 4   address                  947182 non-null  object \n",
      " 5   city                     950748 non-null  object \n",
      " 6   zip_code                 949218 non-null  float64\n",
      " 7   county_number            950646 non-null  float64\n",
      " 8   county                   917218 non-null  object \n",
      " 9   category                 935031 non-null  float64\n",
      " 10  category_name            932255 non-null  object \n",
      " 11  vendor_number            933668 non-null  float64\n",
      " 12  vendor_name              909350 non-null  object \n",
      " 13  item_number              912275 non-null  float64\n",
      " 14  item_description         906474 non-null  object \n",
      " 15  pack                     897972 non-null  float64\n",
      " 16  bottle_volume_ml         904260 non-null  float64\n",
      " 17  state_bottle_cost        942318 non-null  float64\n",
      " 18  state_bottle_retail      952633 non-null  float64\n",
      " 19  bottles_sold             951703 non-null  float64\n",
      " 20  volume_sold_liters       954909 non-null  float64\n",
      " 21  volume_sold_gallons      938076 non-null  float64\n",
      " 22  sale_dollars             946619 non-null  float64\n",
      "dtypes: float64(14), object(9)\n",
      "memory usage: 172.6+ MB\n"
     ]
    }
   ],
   "source": [
    "liquor.info()"
   ]
  },
  {
   "cell_type": "markdown",
   "id": "d1516650",
   "metadata": {},
   "source": [
    "#### Missing Values Percentage"
   ]
  },
  {
   "cell_type": "code",
   "execution_count": 6,
   "id": "a0aa1ee2",
   "metadata": {},
   "outputs": [
    {
     "data": {
      "text/plain": [
       "4.49051564164357"
      ]
     },
     "execution_count": 6,
     "metadata": {},
     "output_type": "execute_result"
    }
   ],
   "source": [
    "#Missing Values \n",
    "liquor.isnull().sum().sum()/liquor.size*100"
   ]
  },
  {
   "cell_type": "code",
   "execution_count": 7,
   "id": "94d589f7",
   "metadata": {},
   "outputs": [
    {
     "data": {
      "text/plain": [
       "invoice_and_item_number    0.411084\n",
       "date                       0.452761\n",
       "store_number               2.595805\n",
       "store_name                 2.385587\n",
       "address                    3.716324\n",
       "city                       3.353830\n",
       "zip_code                   3.509359\n",
       "county_number              3.364199\n",
       "county                     6.762247\n",
       "category                   4.951507\n",
       "category_name              5.233695\n",
       "vendor_number              5.090059\n",
       "vendor_name                7.562051\n",
       "item_number                7.264717\n",
       "item_description           7.854405\n",
       "pack                       8.718657\n",
       "bottle_volume_ml           8.079464\n",
       "state_bottle_cost          4.210763\n",
       "state_bottle_retail        3.162214\n",
       "bottles_sold               3.256752\n",
       "volume_sold_liters         2.930853\n",
       "volume_sold_gallons        4.641974\n",
       "sale_dollars               3.773554\n",
       "dtype: float64"
      ]
     },
     "execution_count": 7,
     "metadata": {},
     "output_type": "execute_result"
    }
   ],
   "source": [
    "#Missing value by percentage per column\n",
    "liquor.isnull().sum() / liquor.shape[0] * 100.00"
   ]
  },
  {
   "cell_type": "markdown",
   "id": "a1ffecf5",
   "metadata": {},
   "source": [
    "#### Imputation \n",
    "#### Imputation by Mean Columnwise"
   ]
  },
  {
   "cell_type": "code",
   "execution_count": 8,
   "id": "43dc5a14",
   "metadata": {},
   "outputs": [],
   "source": [
    "#making a copy of data to run imputations\n",
    "liquorA = liquor.copy()"
   ]
  },
  {
   "cell_type": "code",
   "execution_count": 9,
   "id": "21c5d6d9",
   "metadata": {},
   "outputs": [
    {
     "data": {
      "text/plain": [
       "0"
      ]
     },
     "execution_count": 9,
     "metadata": {},
     "output_type": "execute_result"
    }
   ],
   "source": [
    "mean1 = liquorA['sale_dollars'].mean()\n",
    "mean1\n",
    "\n",
    "def impute_mean(variable):\n",
    "    liquorA['sale_dollars'+'_mean'] = liquorA['sale_dollars'].fillna(liquorA['sale_dollars'].mean())\n",
    "    \n",
    "impute_mean('sale_dollars')\n",
    "\n",
    "liquorA['sale_dollars_mean'].isna().sum()"
   ]
  },
  {
   "cell_type": "code",
   "execution_count": 10,
   "id": "3ec15aa1",
   "metadata": {},
   "outputs": [
    {
     "data": {
      "text/plain": [
       "0"
      ]
     },
     "execution_count": 10,
     "metadata": {},
     "output_type": "execute_result"
    }
   ],
   "source": [
    "mean3 = liquorA['bottle_volume_ml'].mean()\n",
    "mean3\n",
    "\n",
    "def impute_mean(variable):\n",
    "    liquorA['bottle_volume_ml'+'_mean'] = liquorA['bottle_volume_ml'].fillna(liquorA['bottle_volume_ml'].mean())\n",
    "    \n",
    "impute_mean('bottle_volume_ml')\n",
    "\n",
    "liquorA['bottle_volume_ml_mean'].isna().sum()"
   ]
  },
  {
   "cell_type": "code",
   "execution_count": 11,
   "id": "820a8d41",
   "metadata": {},
   "outputs": [
    {
     "data": {
      "text/plain": [
       "0"
      ]
     },
     "execution_count": 11,
     "metadata": {},
     "output_type": "execute_result"
    }
   ],
   "source": [
    "mean4 = liquorA['state_bottle_cost'].mean()\n",
    "mean4\n",
    "\n",
    "def impute_mean(variable):\n",
    "    liquorA['state_bottle_cost'+'_mean'] = liquorA['state_bottle_cost'].fillna(liquorA['state_bottle_cost'].mean())\n",
    "    \n",
    "impute_mean('state_bottle_cost')\n",
    "\n",
    "liquorA['state_bottle_cost_mean'].isna().sum()"
   ]
  },
  {
   "cell_type": "code",
   "execution_count": 12,
   "id": "9401d88f",
   "metadata": {},
   "outputs": [
    {
     "data": {
      "text/plain": [
       "0"
      ]
     },
     "execution_count": 12,
     "metadata": {},
     "output_type": "execute_result"
    }
   ],
   "source": [
    "mean5 = liquorA['state_bottle_retail'].mean()\n",
    "mean5\n",
    "\n",
    "def impute_mean(variable):\n",
    "    liquorA['state_bottle_retail'+'_mean'] = liquorA['state_bottle_retail'].fillna(liquorA['state_bottle_retail'].mean())\n",
    "    \n",
    "impute_mean('state_bottle_retail')\n",
    "\n",
    "liquorA['state_bottle_retail_mean'].isna().sum()"
   ]
  },
  {
   "cell_type": "code",
   "execution_count": 13,
   "id": "3634d400",
   "metadata": {},
   "outputs": [
    {
     "data": {
      "text/plain": [
       "0"
      ]
     },
     "execution_count": 13,
     "metadata": {},
     "output_type": "execute_result"
    }
   ],
   "source": [
    "mean6 = liquorA['bottles_sold'].mean()\n",
    "mean6\n",
    "\n",
    "def impute_mean(variable):\n",
    "    liquorA['bottles_sold'+'_mean'] = liquorA['bottles_sold'].fillna(liquorA['bottles_sold'].mean())\n",
    "    \n",
    "impute_mean('bottles_sold')\n",
    "\n",
    "liquorA['bottles_sold_mean'].isna().sum()"
   ]
  },
  {
   "cell_type": "code",
   "execution_count": 14,
   "id": "bc92bf36",
   "metadata": {},
   "outputs": [
    {
     "data": {
      "text/plain": [
       "0"
      ]
     },
     "execution_count": 14,
     "metadata": {},
     "output_type": "execute_result"
    }
   ],
   "source": [
    "mean7 = liquorA['volume_sold_liters'].mean()\n",
    "mean7\n",
    "\n",
    "def impute_mean(variable):\n",
    "    liquorA['volume_sold_liters'+'_mean'] = liquorA['volume_sold_liters'].fillna(liquorA['volume_sold_liters'].mean())\n",
    "    \n",
    "impute_mean('volume_sold_liters')\n",
    "\n",
    "liquorA['volume_sold_liters_mean'].isna().sum()"
   ]
  },
  {
   "cell_type": "code",
   "execution_count": 15,
   "id": "1b3d2f42",
   "metadata": {},
   "outputs": [
    {
     "data": {
      "text/plain": [
       "0"
      ]
     },
     "execution_count": 15,
     "metadata": {},
     "output_type": "execute_result"
    }
   ],
   "source": [
    "mean8 = liquorA['volume_sold_gallons'].mean()\n",
    "mean8\n",
    "\n",
    "def impute_mean(variable):\n",
    "    liquorA['volume_sold_gallons'+'_mean'] = liquorA['volume_sold_gallons'].fillna(liquorA['volume_sold_gallons'].mean())\n",
    "    \n",
    "impute_mean('volume_sold_gallons')\n",
    "\n",
    "liquorA['volume_sold_gallons_mean'].isna().sum()"
   ]
  },
  {
   "cell_type": "code",
   "execution_count": 16,
   "id": "5e382ca5",
   "metadata": {},
   "outputs": [],
   "source": [
    "liquorA.drop(['pack', 'bottle_volume_ml', 'state_bottle_cost', 'state_bottle_retail',\n",
    "       'bottles_sold', 'volume_sold_liters', 'volume_sold_gallons',\n",
    "       'sale_dollars'], axis = 1, inplace = True)"
   ]
  },
  {
   "cell_type": "code",
   "execution_count": 17,
   "id": "c2655168",
   "metadata": {},
   "outputs": [
    {
     "data": {
      "text/html": [
       "<div>\n",
       "<style scoped>\n",
       "    .dataframe tbody tr th:only-of-type {\n",
       "        vertical-align: middle;\n",
       "    }\n",
       "\n",
       "    .dataframe tbody tr th {\n",
       "        vertical-align: top;\n",
       "    }\n",
       "\n",
       "    .dataframe thead th {\n",
       "        text-align: right;\n",
       "    }\n",
       "</style>\n",
       "<table border=\"1\" class=\"dataframe\">\n",
       "  <thead>\n",
       "    <tr style=\"text-align: right;\">\n",
       "      <th></th>\n",
       "      <th>invoice_and_item_number</th>\n",
       "      <th>date</th>\n",
       "      <th>store_number</th>\n",
       "      <th>store_name</th>\n",
       "      <th>address</th>\n",
       "      <th>city</th>\n",
       "      <th>zip_code</th>\n",
       "      <th>county_number</th>\n",
       "      <th>county</th>\n",
       "      <th>category</th>\n",
       "      <th>...</th>\n",
       "      <th>vendor_name</th>\n",
       "      <th>item_number</th>\n",
       "      <th>item_description</th>\n",
       "      <th>sale_dollars_mean</th>\n",
       "      <th>bottle_volume_ml_mean</th>\n",
       "      <th>state_bottle_cost_mean</th>\n",
       "      <th>state_bottle_retail_mean</th>\n",
       "      <th>bottles_sold_mean</th>\n",
       "      <th>volume_sold_liters_mean</th>\n",
       "      <th>volume_sold_gallons_mean</th>\n",
       "    </tr>\n",
       "  </thead>\n",
       "  <tbody>\n",
       "    <tr>\n",
       "      <th>0</th>\n",
       "      <td>INV-33179700135</td>\n",
       "      <td>4/1/2021</td>\n",
       "      <td>2576.0</td>\n",
       "      <td>Hy-Vee Wine and Spirits / Storm Lake</td>\n",
       "      <td>1250 N Lake St</td>\n",
       "      <td>Storm Lake</td>\n",
       "      <td>50588.0</td>\n",
       "      <td>11.0</td>\n",
       "      <td>BUENA VIST</td>\n",
       "      <td>1081600.0</td>\n",
       "      <td>...</td>\n",
       "      <td>SAZERAC COMPANY  INC</td>\n",
       "      <td>64870.0</td>\n",
       "      <td>Fireball Cinnamon Whiskey</td>\n",
       "      <td>64.80</td>\n",
       "      <td>100.0</td>\n",
       "      <td>0.90</td>\n",
       "      <td>1.35</td>\n",
       "      <td>48.0</td>\n",
       "      <td>4.8</td>\n",
       "      <td>1.26</td>\n",
       "    </tr>\n",
       "    <tr>\n",
       "      <th>1</th>\n",
       "      <td>INV-33196200106</td>\n",
       "      <td>4/1/2021</td>\n",
       "      <td>2649.0</td>\n",
       "      <td>Hy-Vee #3 / Dubuque</td>\n",
       "      <td>400 Locust St</td>\n",
       "      <td>Dubuque</td>\n",
       "      <td>52001.0</td>\n",
       "      <td>31.0</td>\n",
       "      <td>DUBUQUE</td>\n",
       "      <td>1081200.0</td>\n",
       "      <td>...</td>\n",
       "      <td>McCormick Distilling Co.</td>\n",
       "      <td>65200.0</td>\n",
       "      <td>Tequila Rose Liqueur</td>\n",
       "      <td>69.00</td>\n",
       "      <td>750.0</td>\n",
       "      <td>11.50</td>\n",
       "      <td>17.25</td>\n",
       "      <td>4.0</td>\n",
       "      <td>3.0</td>\n",
       "      <td>0.79</td>\n",
       "    </tr>\n",
       "    <tr>\n",
       "      <th>2</th>\n",
       "      <td>INV-33184300011</td>\n",
       "      <td>4/1/2021</td>\n",
       "      <td>2539.0</td>\n",
       "      <td>Hy-Vee Food Store / Iowa Falls</td>\n",
       "      <td>640 S. Oak</td>\n",
       "      <td>Iowa Falls</td>\n",
       "      <td>50126.0</td>\n",
       "      <td>42.0</td>\n",
       "      <td>HARDIN</td>\n",
       "      <td>1031100.0</td>\n",
       "      <td>...</td>\n",
       "      <td>DIAGEO AMERICAS</td>\n",
       "      <td>38008.0</td>\n",
       "      <td>Smirnoff 80prf PET</td>\n",
       "      <td>132.78</td>\n",
       "      <td>1750.0</td>\n",
       "      <td>14.75</td>\n",
       "      <td>22.13</td>\n",
       "      <td>6.0</td>\n",
       "      <td>10.5</td>\n",
       "      <td>2.77</td>\n",
       "    </tr>\n",
       "    <tr>\n",
       "      <th>3</th>\n",
       "      <td>INV-33184100015</td>\n",
       "      <td>4/1/2021</td>\n",
       "      <td>4024.0</td>\n",
       "      <td>Wal-Mart 1546 / Iowa Falls</td>\n",
       "      <td>840 S Oak</td>\n",
       "      <td>Iowa Falls</td>\n",
       "      <td>50126.0</td>\n",
       "      <td>42.0</td>\n",
       "      <td>HARDIN</td>\n",
       "      <td>1031100.0</td>\n",
       "      <td>...</td>\n",
       "      <td>SAZERAC NORTH AMERICA</td>\n",
       "      <td>36648.0</td>\n",
       "      <td>Caliber Vodka</td>\n",
       "      <td>59.64</td>\n",
       "      <td>750.0</td>\n",
       "      <td>3.31</td>\n",
       "      <td>4.97</td>\n",
       "      <td>12.0</td>\n",
       "      <td>9.0</td>\n",
       "      <td>2.37</td>\n",
       "    </tr>\n",
       "    <tr>\n",
       "      <th>4</th>\n",
       "      <td>INV-33174200025</td>\n",
       "      <td>4/1/2021</td>\n",
       "      <td>5385.0</td>\n",
       "      <td>Vine Food &amp; Liquor</td>\n",
       "      <td>2704 Vine St.</td>\n",
       "      <td>West Des Moines</td>\n",
       "      <td>50265.0</td>\n",
       "      <td>77.0</td>\n",
       "      <td>POLK</td>\n",
       "      <td>1012200.0</td>\n",
       "      <td>...</td>\n",
       "      <td>DIAGEO AMERICAS</td>\n",
       "      <td>4626.0</td>\n",
       "      <td>Buchanan Deluxe 12YR</td>\n",
       "      <td>62.98</td>\n",
       "      <td>750.0</td>\n",
       "      <td>20.99</td>\n",
       "      <td>31.49</td>\n",
       "      <td>2.0</td>\n",
       "      <td>1.5</td>\n",
       "      <td>0.39</td>\n",
       "    </tr>\n",
       "  </tbody>\n",
       "</table>\n",
       "<p>5 rows × 22 columns</p>\n",
       "</div>"
      ],
      "text/plain": [
       "  invoice_and_item_number      date  store_number  \\\n",
       "0         INV-33179700135  4/1/2021        2576.0   \n",
       "1         INV-33196200106  4/1/2021        2649.0   \n",
       "2         INV-33184300011  4/1/2021        2539.0   \n",
       "3         INV-33184100015  4/1/2021        4024.0   \n",
       "4         INV-33174200025  4/1/2021        5385.0   \n",
       "\n",
       "                             store_name         address             city  \\\n",
       "0  Hy-Vee Wine and Spirits / Storm Lake  1250 N Lake St       Storm Lake   \n",
       "1                   Hy-Vee #3 / Dubuque   400 Locust St          Dubuque   \n",
       "2        Hy-Vee Food Store / Iowa Falls      640 S. Oak       Iowa Falls   \n",
       "3            Wal-Mart 1546 / Iowa Falls       840 S Oak       Iowa Falls   \n",
       "4                    Vine Food & Liquor   2704 Vine St.  West Des Moines   \n",
       "\n",
       "   zip_code  county_number      county   category  ...  \\\n",
       "0   50588.0           11.0  BUENA VIST  1081600.0  ...   \n",
       "1   52001.0           31.0     DUBUQUE  1081200.0  ...   \n",
       "2   50126.0           42.0      HARDIN  1031100.0  ...   \n",
       "3   50126.0           42.0      HARDIN  1031100.0  ...   \n",
       "4   50265.0           77.0        POLK  1012200.0  ...   \n",
       "\n",
       "                vendor_name  item_number           item_description  \\\n",
       "0      SAZERAC COMPANY  INC      64870.0  Fireball Cinnamon Whiskey   \n",
       "1  McCormick Distilling Co.      65200.0       Tequila Rose Liqueur   \n",
       "2           DIAGEO AMERICAS      38008.0         Smirnoff 80prf PET   \n",
       "3     SAZERAC NORTH AMERICA      36648.0              Caliber Vodka   \n",
       "4           DIAGEO AMERICAS       4626.0       Buchanan Deluxe 12YR   \n",
       "\n",
       "   sale_dollars_mean bottle_volume_ml_mean  state_bottle_cost_mean  \\\n",
       "0              64.80                 100.0                    0.90   \n",
       "1              69.00                 750.0                   11.50   \n",
       "2             132.78                1750.0                   14.75   \n",
       "3              59.64                 750.0                    3.31   \n",
       "4              62.98                 750.0                   20.99   \n",
       "\n",
       "   state_bottle_retail_mean  bottles_sold_mean  volume_sold_liters_mean  \\\n",
       "0                      1.35               48.0                      4.8   \n",
       "1                     17.25                4.0                      3.0   \n",
       "2                     22.13                6.0                     10.5   \n",
       "3                      4.97               12.0                      9.0   \n",
       "4                     31.49                2.0                      1.5   \n",
       "\n",
       "   volume_sold_gallons_mean  \n",
       "0                      1.26  \n",
       "1                      0.79  \n",
       "2                      2.77  \n",
       "3                      2.37  \n",
       "4                      0.39  \n",
       "\n",
       "[5 rows x 22 columns]"
      ]
     },
     "execution_count": 17,
     "metadata": {},
     "output_type": "execute_result"
    }
   ],
   "source": [
    "liquorA.head()"
   ]
  },
  {
   "cell_type": "markdown",
   "id": "9aee84d4",
   "metadata": {},
   "source": [
    "#### Testing the Imputation by Mean columnwise\n",
    "*      Running a Linear Regression model to test the imputation by predicting sales dollars against the columns imputed"
   ]
  },
  {
   "cell_type": "code",
   "execution_count": 18,
   "id": "a37bde9b",
   "metadata": {},
   "outputs": [],
   "source": [
    "X_M = liquorA.iloc[:,16:]\n",
    "y_m = liquorA['sale_dollars_mean']"
   ]
  },
  {
   "cell_type": "code",
   "execution_count": 19,
   "id": "4ecb5c46",
   "metadata": {},
   "outputs": [],
   "source": [
    "from sklearn.model_selection import train_test_split\n",
    "\n",
    "X_trainm, X_testm, y_trainm, y_testm = train_test_split(X_M, y_m, test_size = 0.3, random_state=42)"
   ]
  },
  {
   "cell_type": "code",
   "execution_count": 20,
   "id": "ca2322f0",
   "metadata": {},
   "outputs": [
    {
     "name": "stdout",
     "output_type": "stream",
     "text": [
      "The score with manual column wise mean imputation: 0.7228135649284693\n"
     ]
    }
   ],
   "source": [
    "from sklearn.linear_model import LinearRegression\n",
    "\n",
    "linear_reg = LinearRegression()\n",
    "\n",
    "linear_reg.fit(X_trainm, y_trainm)\n",
    "\n",
    "print('The score with manual column wise mean imputation:', linear_reg.score(X_testm, y_testm))"
   ]
  },
  {
   "cell_type": "markdown",
   "id": "7d907199",
   "metadata": {},
   "source": [
    "#### Simple Imputer with Mean"
   ]
  },
  {
   "cell_type": "code",
   "execution_count": 21,
   "id": "ff828451",
   "metadata": {},
   "outputs": [],
   "source": [
    "#making a copy of data to run imputations\n",
    "liquor2 = liquor.copy()"
   ]
  },
  {
   "cell_type": "code",
   "execution_count": 22,
   "id": "ee402a29",
   "metadata": {},
   "outputs": [
    {
     "data": {
      "text/plain": [
       "Index(['pack', 'bottle_volume_ml', 'state_bottle_cost', 'state_bottle_retail',\n",
       "       'bottles_sold', 'volume_sold_liters', 'volume_sold_gallons',\n",
       "       'sale_dollars'],\n",
       "      dtype='object')"
      ]
     },
     "execution_count": 22,
     "metadata": {},
     "output_type": "execute_result"
    }
   ],
   "source": [
    "#all numerical columns from 15 till end\n",
    "liquor_X2 = liquor2.iloc[:, 15:]\n",
    "liquor_X2.columns"
   ]
  },
  {
   "cell_type": "code",
   "execution_count": 23,
   "id": "86368c95",
   "metadata": {},
   "outputs": [
    {
     "name": "stdout",
     "output_type": "stream",
     "text": [
      "Missing Values: 381438\n",
      "Missing: 0\n"
     ]
    }
   ],
   "source": [
    "#SIMPLE IMPUTER WITH MEAN\n",
    "\n",
    "from sklearn.impute import SimpleImputer\n",
    "\n",
    "#define the imputer\n",
    "simp_mean = SimpleImputer(missing_values=np.nan, strategy='mean')\n",
    "\n",
    "#print missing values before imputation\n",
    "print('Missing Values: %d' % sum(isnan(liquor_X2).sum()))\n",
    "\n",
    "#transforming the dataset\n",
    "liquor_imputed = simp_mean.fit_transform(liquor_X2)\n",
    "\n",
    "#count the number of NaN values in each column\n",
    "print('Missing: %d' % isnan(liquor_imputed).sum().flatten())"
   ]
  },
  {
   "cell_type": "code",
   "execution_count": 24,
   "id": "24a48d7c",
   "metadata": {},
   "outputs": [],
   "source": [
    "#transferring it back to pandas dataframe\n",
    "liquor_imputed = pd.DataFrame.from_records(liquor_imputed, columns=liquor_X2.columns)"
   ]
  },
  {
   "cell_type": "code",
   "execution_count": 25,
   "id": "577c681e",
   "metadata": {},
   "outputs": [
    {
     "data": {
      "text/html": [
       "<div>\n",
       "<style scoped>\n",
       "    .dataframe tbody tr th:only-of-type {\n",
       "        vertical-align: middle;\n",
       "    }\n",
       "\n",
       "    .dataframe tbody tr th {\n",
       "        vertical-align: top;\n",
       "    }\n",
       "\n",
       "    .dataframe thead th {\n",
       "        text-align: right;\n",
       "    }\n",
       "</style>\n",
       "<table border=\"1\" class=\"dataframe\">\n",
       "  <thead>\n",
       "    <tr style=\"text-align: right;\">\n",
       "      <th></th>\n",
       "      <th>pack</th>\n",
       "      <th>bottle_volume_ml</th>\n",
       "      <th>state_bottle_cost</th>\n",
       "      <th>state_bottle_retail</th>\n",
       "      <th>bottles_sold</th>\n",
       "      <th>volume_sold_liters</th>\n",
       "      <th>volume_sold_gallons</th>\n",
       "      <th>sale_dollars</th>\n",
       "    </tr>\n",
       "  </thead>\n",
       "  <tbody>\n",
       "    <tr>\n",
       "      <th>0</th>\n",
       "      <td>48.0</td>\n",
       "      <td>100.0</td>\n",
       "      <td>0.90</td>\n",
       "      <td>1.35</td>\n",
       "      <td>48.0</td>\n",
       "      <td>4.8</td>\n",
       "      <td>1.26</td>\n",
       "      <td>64.80</td>\n",
       "    </tr>\n",
       "    <tr>\n",
       "      <th>1</th>\n",
       "      <td>12.0</td>\n",
       "      <td>750.0</td>\n",
       "      <td>11.50</td>\n",
       "      <td>17.25</td>\n",
       "      <td>4.0</td>\n",
       "      <td>3.0</td>\n",
       "      <td>0.79</td>\n",
       "      <td>69.00</td>\n",
       "    </tr>\n",
       "    <tr>\n",
       "      <th>2</th>\n",
       "      <td>6.0</td>\n",
       "      <td>1750.0</td>\n",
       "      <td>14.75</td>\n",
       "      <td>22.13</td>\n",
       "      <td>6.0</td>\n",
       "      <td>10.5</td>\n",
       "      <td>2.77</td>\n",
       "      <td>132.78</td>\n",
       "    </tr>\n",
       "    <tr>\n",
       "      <th>3</th>\n",
       "      <td>12.0</td>\n",
       "      <td>750.0</td>\n",
       "      <td>3.31</td>\n",
       "      <td>4.97</td>\n",
       "      <td>12.0</td>\n",
       "      <td>9.0</td>\n",
       "      <td>2.37</td>\n",
       "      <td>59.64</td>\n",
       "    </tr>\n",
       "    <tr>\n",
       "      <th>4</th>\n",
       "      <td>12.0</td>\n",
       "      <td>750.0</td>\n",
       "      <td>20.99</td>\n",
       "      <td>31.49</td>\n",
       "      <td>2.0</td>\n",
       "      <td>1.5</td>\n",
       "      <td>0.39</td>\n",
       "      <td>62.98</td>\n",
       "    </tr>\n",
       "  </tbody>\n",
       "</table>\n",
       "</div>"
      ],
      "text/plain": [
       "   pack  bottle_volume_ml  state_bottle_cost  state_bottle_retail  \\\n",
       "0  48.0             100.0               0.90                 1.35   \n",
       "1  12.0             750.0              11.50                17.25   \n",
       "2   6.0            1750.0              14.75                22.13   \n",
       "3  12.0             750.0               3.31                 4.97   \n",
       "4  12.0             750.0              20.99                31.49   \n",
       "\n",
       "   bottles_sold  volume_sold_liters  volume_sold_gallons  sale_dollars  \n",
       "0          48.0                 4.8                 1.26         64.80  \n",
       "1           4.0                 3.0                 0.79         69.00  \n",
       "2           6.0                10.5                 2.77        132.78  \n",
       "3          12.0                 9.0                 2.37         59.64  \n",
       "4           2.0                 1.5                 0.39         62.98  "
      ]
     },
     "execution_count": 25,
     "metadata": {},
     "output_type": "execute_result"
    }
   ],
   "source": [
    "liquor_imputed.head()"
   ]
  },
  {
   "cell_type": "code",
   "execution_count": 26,
   "id": "40ac4b67",
   "metadata": {},
   "outputs": [],
   "source": [
    "X = liquor_imputed.iloc[:,:7]\n",
    "y =  liquor_imputed.iloc[:,7]"
   ]
  },
  {
   "cell_type": "code",
   "execution_count": 27,
   "id": "67d5bc19",
   "metadata": {},
   "outputs": [],
   "source": [
    "from sklearn.model_selection import train_test_split\n",
    "X = liquor_imputed.iloc[:,:7]\n",
    "y =  liquor_imputed.iloc[:,7]\n",
    "\n",
    "X_train, X_test, y_train, y_test = train_test_split(X, y, test_size = 0.3, random_state=42)"
   ]
  },
  {
   "cell_type": "code",
   "execution_count": 28,
   "id": "c64eca2f",
   "metadata": {},
   "outputs": [
    {
     "name": "stdout",
     "output_type": "stream",
     "text": [
      "The score with simple imputer with mean imputation: 0.7255197758885583\n"
     ]
    }
   ],
   "source": [
    "from sklearn.linear_model import LinearRegression\n",
    "\n",
    "linear_reg = LinearRegression()\n",
    "\n",
    "linear_reg.fit(X_train, y_train)\n",
    "\n",
    "print('The score with simple imputer with mean imputation:',linear_reg.score(X_test, y_test))"
   ]
  },
  {
   "cell_type": "markdown",
   "id": "6a4079ec",
   "metadata": {},
   "source": [
    "#### Simple Imputer with Median "
   ]
  },
  {
   "cell_type": "code",
   "execution_count": 29,
   "id": "0a0b61a0",
   "metadata": {},
   "outputs": [
    {
     "name": "stdout",
     "output_type": "stream",
     "text": [
      "Missing Values: 381438\n",
      "Missing Values after imputation: 0\n"
     ]
    }
   ],
   "source": [
    "#SIMPLE IMPUTER WITH MEDIAN\n",
    "\n",
    "from sklearn.impute import SimpleImputer\n",
    "\n",
    "#define the imputer\n",
    "simp_median2 = SimpleImputer(missing_values=np.nan, strategy='median')\n",
    "\n",
    "#print missing values before imputation\n",
    "print('Missing Values: %d' % sum(isnan(liquor_X2).sum()))\n",
    "\n",
    "#transforming the dataset\n",
    "liquor_imputed2 = simp_median2.fit_transform(liquor_X2)\n",
    "\n",
    "#count the number of NaN values in each column\n",
    "print('Missing Values after imputation: %d' % isnan(liquor_imputed2).sum().flatten())"
   ]
  },
  {
   "cell_type": "code",
   "execution_count": 30,
   "id": "215adb1c",
   "metadata": {},
   "outputs": [],
   "source": [
    "liquor_imputed2 = pd.DataFrame.from_records(liquor_imputed2, columns=liquor_X2.columns)"
   ]
  },
  {
   "cell_type": "code",
   "execution_count": 31,
   "id": "bb93aa08",
   "metadata": {},
   "outputs": [],
   "source": [
    "from sklearn.model_selection import train_test_split\n",
    "X2 = liquor_imputed2.iloc[:,:7]\n",
    "y2 =  liquor_imputed2.iloc[:,7]\n",
    "\n",
    "X_train2, X_test2, y_train2, y_test2 = train_test_split(X2, y2, test_size = 0.3, random_state=42)"
   ]
  },
  {
   "cell_type": "code",
   "execution_count": 32,
   "id": "26161572",
   "metadata": {},
   "outputs": [
    {
     "name": "stdout",
     "output_type": "stream",
     "text": [
      "The score with simple imputer with median imputation: 0.7256714821256673\n"
     ]
    }
   ],
   "source": [
    "from sklearn.linear_model import LinearRegression\n",
    "\n",
    "linear_reg2 = LinearRegression()\n",
    "\n",
    "linear_reg2.fit(X_train2, y_train2)\n",
    "\n",
    "print('The score with simple imputer with median imputation:',linear_reg2.score(X_test2, y_test2))"
   ]
  },
  {
   "cell_type": "markdown",
   "id": "cf7ff02f",
   "metadata": {},
   "source": [
    "#### Simple Imputer with Mode"
   ]
  },
  {
   "cell_type": "code",
   "execution_count": 33,
   "id": "3d29c0ff",
   "metadata": {},
   "outputs": [
    {
     "name": "stdout",
     "output_type": "stream",
     "text": [
      "Missing Values: 381438\n",
      "Missing Values after imputation: 0\n"
     ]
    }
   ],
   "source": [
    "#SIMPLE IMPUTER WITH MODE\n",
    "\n",
    "from sklearn.impute import SimpleImputer\n",
    "\n",
    "#define the imputer\n",
    "simp_mode3 = SimpleImputer(missing_values=np.nan, strategy='most_frequent')\n",
    "\n",
    "#print missing values before imputation\n",
    "print('Missing Values: %d' % sum(isnan(liquor_X2).sum()))\n",
    "\n",
    "#transforming the dataset\n",
    "liquor_imputed3 = simp_mode3.fit_transform(liquor_X2)\n",
    "\n",
    "#count the number of NaN values in each column\n",
    "print('Missing Values after imputation: %d' % isnan(liquor_imputed3).sum().flatten())"
   ]
  },
  {
   "cell_type": "code",
   "execution_count": 34,
   "id": "56fd99b3",
   "metadata": {},
   "outputs": [],
   "source": [
    "liquor_imputed3 = pd.DataFrame.from_records(liquor_imputed3, columns=liquor_X2.columns)"
   ]
  },
  {
   "cell_type": "code",
   "execution_count": 35,
   "id": "3ecd2523",
   "metadata": {},
   "outputs": [],
   "source": [
    "from sklearn.model_selection import train_test_split\n",
    "X3 = liquor_imputed3.iloc[:,:7]\n",
    "y3 =  liquor_imputed3.iloc[:,7]\n",
    "\n",
    "X_train3, X_test3, y_train3, y_test3 = train_test_split(X3, y3, test_size = 0.3, random_state=42)"
   ]
  },
  {
   "cell_type": "code",
   "execution_count": 36,
   "id": "c39d92ca",
   "metadata": {},
   "outputs": [
    {
     "name": "stdout",
     "output_type": "stream",
     "text": [
      "The score with simple imputer with mode imputation: 0.7253684680456922\n"
     ]
    }
   ],
   "source": [
    "from sklearn.linear_model import LinearRegression\n",
    "\n",
    "linear_reg3 = LinearRegression()\n",
    "\n",
    "linear_reg3.fit(X_train3, y_train3)\n",
    "\n",
    "print('The score with simple imputer with mode imputation:',linear_reg3.score(X_test3, y_test3))"
   ]
  },
  {
   "cell_type": "markdown",
   "id": "90c0c1d3",
   "metadata": {},
   "source": [
    "#### Iterative Imputer with Mean"
   ]
  },
  {
   "cell_type": "code",
   "execution_count": 37,
   "id": "50204573",
   "metadata": {},
   "outputs": [
    {
     "name": "stdout",
     "output_type": "stream",
     "text": [
      "Missing Values: 381438\n",
      "Missing Values After Imputation: 0\n"
     ]
    }
   ],
   "source": [
    "#ITERATIVE IMPUTER WITH MEAN\n",
    "\n",
    "from sklearn.experimental import enable_iterative_imputer  \n",
    "from sklearn.impute import IterativeImputer\n",
    "#defining the imputer\n",
    "imp_mean = IterativeImputer(max_iter = 10, random_state = 42)\n",
    "\n",
    "# print total missing before imputation\n",
    "print('Missing Values: %d' % sum(isnan(liquor_X2).sum()))\n",
    "\n",
    "#transform the dataset\n",
    "liquor_imputed4 = imp_mean.fit_transform(liquor_X2)\n",
    "\n",
    "#print total missing values after mean imputation\n",
    "print('Missing Values After Imputation: %d' % sum(isnan(liquor_imputed4).sum().flatten()))"
   ]
  },
  {
   "cell_type": "code",
   "execution_count": 38,
   "id": "0c4f7a1f",
   "metadata": {},
   "outputs": [],
   "source": [
    "liquor_imputed4 = pd.DataFrame.from_records(liquor_imputed4, columns=liquor_X2.columns)"
   ]
  },
  {
   "cell_type": "code",
   "execution_count": 39,
   "id": "52a26fe0",
   "metadata": {},
   "outputs": [],
   "source": [
    "from sklearn.model_selection import train_test_split\n",
    "X4 = liquor_imputed4.iloc[:,:7]\n",
    "y4 =  liquor_imputed4.iloc[:,7]\n",
    "\n",
    "X_train4, X_test4, y_train4, y_test4 = train_test_split(X4, y4, test_size = 0.3, random_state=42)"
   ]
  },
  {
   "cell_type": "code",
   "execution_count": 40,
   "id": "96744987",
   "metadata": {},
   "outputs": [
    {
     "name": "stdout",
     "output_type": "stream",
     "text": [
      "The score with iterative imputer with mean imputation: 0.7282854684908151\n"
     ]
    }
   ],
   "source": [
    "from sklearn.linear_model import LinearRegression\n",
    "\n",
    "linear_reg4 = LinearRegression()\n",
    "\n",
    "linear_reg4.fit(X_train4, y_train4)\n",
    "\n",
    "print('The score with iterative imputer with mean imputation:',linear_reg4.score(X_test4, y_test4))"
   ]
  },
  {
   "cell_type": "markdown",
   "id": "08107de8",
   "metadata": {},
   "source": [
    "#### Iterative Imputer with Median"
   ]
  },
  {
   "cell_type": "code",
   "execution_count": 41,
   "id": "eac567c3",
   "metadata": {},
   "outputs": [],
   "source": [
    "liquor3 = liquor.copy()"
   ]
  },
  {
   "cell_type": "code",
   "execution_count": 42,
   "id": "a528be9a",
   "metadata": {},
   "outputs": [
    {
     "data": {
      "text/plain": [
       "Index(['pack', 'bottle_volume_ml', 'state_bottle_cost', 'state_bottle_retail',\n",
       "       'bottles_sold', 'volume_sold_liters', 'volume_sold_gallons',\n",
       "       'sale_dollars'],\n",
       "      dtype='object')"
      ]
     },
     "execution_count": 42,
     "metadata": {},
     "output_type": "execute_result"
    }
   ],
   "source": [
    "#all numerical columns from 15 till end\n",
    "liquor_X3 = liquor3.iloc[:, 15:]\n",
    "liquor_X3.columns"
   ]
  },
  {
   "cell_type": "code",
   "execution_count": 43,
   "id": "99f79489",
   "metadata": {},
   "outputs": [
    {
     "name": "stdout",
     "output_type": "stream",
     "text": [
      "Missing Values: 381438\n",
      "Missing Values After Imputation: 0\n"
     ]
    }
   ],
   "source": [
    "#ITERATIVE IMPUTER WITH MEDIAN\n",
    "\n",
    "from sklearn.experimental import enable_iterative_imputer  \n",
    "from sklearn.impute import IterativeImputer\n",
    "#defining the imputer\n",
    "imp_median = IterativeImputer(initial_strategy = 'median', max_iter = 10, random_state = 42)\n",
    "\n",
    "# print total missing before imputation\n",
    "print('Missing Values: %d' % sum(isnan(liquor_X3).sum()))\n",
    "\n",
    "#transform the dataset\n",
    "liquor_imputed5 = imp_median.fit_transform(liquor_X3)\n",
    "\n",
    "#print total missing values after mean imputation\n",
    "print('Missing Values After Imputation: %d' % sum(isnan(liquor_imputed5).sum().flatten()))"
   ]
  },
  {
   "cell_type": "code",
   "execution_count": 44,
   "id": "c156b417",
   "metadata": {},
   "outputs": [],
   "source": [
    "liquor_imputed5 = pd.DataFrame.from_records(liquor_imputed5, columns=liquor_X3.columns)"
   ]
  },
  {
   "cell_type": "code",
   "execution_count": 45,
   "id": "8b88aa1b",
   "metadata": {},
   "outputs": [],
   "source": [
    "from sklearn.model_selection import train_test_split\n",
    "X5 = liquor_imputed5.iloc[:,:7]\n",
    "y5 =  liquor_imputed5.iloc[:,7]\n",
    "\n",
    "X_train5, X_test5, y_train5, y_test5 = train_test_split(X5, y5, test_size = 0.3, random_state=42)"
   ]
  },
  {
   "cell_type": "code",
   "execution_count": 46,
   "id": "fccc8952",
   "metadata": {},
   "outputs": [
    {
     "name": "stdout",
     "output_type": "stream",
     "text": [
      "The score with iterative imputer with median imputation: 0.7284178754816684\n"
     ]
    }
   ],
   "source": [
    "from sklearn.linear_model import LinearRegression\n",
    "\n",
    "linear_reg5 = LinearRegression()\n",
    "\n",
    "linear_reg5.fit(X_train5, y_train5)\n",
    "\n",
    "print('The score with iterative imputer with median imputation:',linear_reg5.score(X_test5, y_test5))"
   ]
  },
  {
   "cell_type": "markdown",
   "id": "75fec68a",
   "metadata": {},
   "source": [
    "#### Iterative Imputer with Mode"
   ]
  },
  {
   "cell_type": "code",
   "execution_count": 47,
   "id": "d0fe2a03",
   "metadata": {},
   "outputs": [
    {
     "name": "stdout",
     "output_type": "stream",
     "text": [
      "Missing Values: 381438\n",
      "Missing Values After Imputation: 0\n"
     ]
    }
   ],
   "source": [
    "#ITERATIVE IMPUTER WITH MODE\n",
    "\n",
    "from sklearn.experimental import enable_iterative_imputer  \n",
    "from sklearn.impute import IterativeImputer\n",
    "#defining the imputer\n",
    "imp_mode = IterativeImputer(initial_strategy = 'most_frequent', max_iter = 10, random_state = 42)\n",
    "\n",
    "# print total missing before imputation\n",
    "print('Missing Values: %d' % sum(isnan(liquor_X2).sum()))\n",
    "\n",
    "#transform the dataset\n",
    "liquor_imputed6 = imp_mode.fit_transform(liquor_X2)\n",
    "\n",
    "#print total missing values after mean imputation\n",
    "print('Missing Values After Imputation: %d' % sum(isnan(liquor_imputed6).sum().flatten()))"
   ]
  },
  {
   "cell_type": "code",
   "execution_count": 48,
   "id": "e3d260e9",
   "metadata": {},
   "outputs": [],
   "source": [
    "liquor_imputed6 = pd.DataFrame.from_records(liquor_imputed6, columns=liquor_X3.columns)"
   ]
  },
  {
   "cell_type": "code",
   "execution_count": 49,
   "id": "5578b0db",
   "metadata": {},
   "outputs": [],
   "source": [
    "from sklearn.model_selection import train_test_split\n",
    "X6 = liquor_imputed6.iloc[:,:7]\n",
    "y6 =  liquor_imputed6.iloc[:,7]\n",
    "\n",
    "X_train6, X_test6, y_train6, y_test6 = train_test_split(X6, y6, test_size = 0.3, random_state=42)"
   ]
  },
  {
   "cell_type": "code",
   "execution_count": 50,
   "id": "2d1a1d44",
   "metadata": {},
   "outputs": [
    {
     "data": {
      "text/plain": [
       "0.7283068871810945"
      ]
     },
     "execution_count": 50,
     "metadata": {},
     "output_type": "execute_result"
    }
   ],
   "source": [
    "from sklearn.linear_model import LinearRegression\n",
    "\n",
    "linear_reg6 = LinearRegression()\n",
    "\n",
    "linear_reg6.fit(X_train6, y_train6)\n",
    "\n",
    "linear_reg6.score(X_test6, y_test6)"
   ]
  },
  {
   "cell_type": "markdown",
   "id": "1f0c89fd",
   "metadata": {},
   "source": [
    "####  Iterative Imputer with Extra Tree Regressor"
   ]
  },
  {
   "cell_type": "code",
   "execution_count": null,
   "id": "dde48680",
   "metadata": {},
   "outputs": [],
   "source": [
    "#ITERATIVE IMPUTER WITH EXTRA TREE REGRESSOR\n",
    "\n",
    "from sklearn.ensemble import ExtraTreesRegressor\n",
    "\n",
    "imp_tree = IterativeImputer(\n",
    "    estimator=ExtraTreesRegressor(), max_iter=10, random_state=42)\n",
    "\n",
    "#transform the dataset\n",
    "liquor_imputed7 = imp_tree.fit_transform(liquor_X3)"
   ]
  },
  {
   "cell_type": "code",
   "execution_count": null,
   "id": "873a5cb0",
   "metadata": {},
   "outputs": [],
   "source": [
    "liquor_imputed7 = pd.DataFrame.from_records(liquor_imputed7, columns=liquor_X3.columns)"
   ]
  },
  {
   "cell_type": "code",
   "execution_count": null,
   "id": "2af441f8",
   "metadata": {},
   "outputs": [],
   "source": [
    "from sklearn.model_selection import train_test_split\n",
    "X7 = liquor_imputed7.iloc[:,:7]\n",
    "y7 =  liquor_imputed7.iloc[:,7]\n",
    "\n",
    "X_train7, X_test7, y_train7, y_test7 = train_test_split(X7, y7, test_size = 0.3, random_state=42)"
   ]
  },
  {
   "cell_type": "code",
   "execution_count": null,
   "id": "0045e11c",
   "metadata": {},
   "outputs": [],
   "source": [
    "from sklearn.linear_model import LinearRegression\n",
    "\n",
    "linear_reg7 = LinearRegression()\n",
    "\n",
    "linear_reg7.fit(X_train7, y_train7)\n",
    "\n",
    "linear_reg7.score(X_test7, y_test7)\n",
    "#0.7267532647058694"
   ]
  },
  {
   "cell_type": "markdown",
   "id": "1f60f8d4",
   "metadata": {},
   "source": [
    "#### Iterative Imputer with Bayesian Ridge"
   ]
  },
  {
   "cell_type": "code",
   "execution_count": null,
   "id": "2785f91a",
   "metadata": {},
   "outputs": [],
   "source": [
    "#ITERATIVE IMPUTER WITH BAYESIAN RIDGE\n",
    "\n",
    "from sklearn.linear_model import BayesianRidge\n",
    "\n",
    "imp_bridge = IterativeImputer(\n",
    "    estimator=BayesianRidge(), max_iter=10, random_state=42)\n",
    "\n",
    "#transform the dataset\n",
    "liquor_imputed8 = imp_tree.fit_transform(liquor_X2)"
   ]
  },
  {
   "cell_type": "code",
   "execution_count": null,
   "id": "d3bdd715",
   "metadata": {},
   "outputs": [],
   "source": [
    "liquor_imputed8 = pd.DataFrame.from_records(liquor_imputed8, columns=liquor_X3.columns)"
   ]
  },
  {
   "cell_type": "code",
   "execution_count": null,
   "id": "05524910",
   "metadata": {},
   "outputs": [],
   "source": [
    "from sklearn.model_selection import train_test_split\n",
    "X8 = liquor_imputed8.iloc[:,:7]\n",
    "y8 =  liquor_imputed8.iloc[:,7]\n",
    "\n",
    "X_train8, X_test8, y_train8, y_test8 = train_test_split(X8, y8, test_size = 0.3, random_state=42)"
   ]
  },
  {
   "cell_type": "code",
   "execution_count": null,
   "id": "40a09385",
   "metadata": {},
   "outputs": [],
   "source": [
    "from sklearn.linear_model import LinearRegression\n",
    "\n",
    "linear_reg8 = LinearRegression()\n",
    "\n",
    "linear_reg8.fit(X_train8, y_train8)\n",
    "\n",
    "linear_reg8.score(X_test8, y_test8)\n",
    "#0.7272483805724858"
   ]
  },
  {
   "cell_type": "markdown",
   "id": "1541792e",
   "metadata": {},
   "source": [
    "#### Iterative Imputer with KNN Imputer"
   ]
  },
  {
   "cell_type": "code",
   "execution_count": null,
   "id": "192cf811",
   "metadata": {},
   "outputs": [],
   "source": [
    "#IMPUTATION WITH KNN IMPUTER\n",
    "\n",
    "from sklearn.impute import KNNImputer\n",
    "\n",
    "knn_imp = KNNImputer(n_neighbors=3)\n",
    "# Fit/transform\n",
    "liquor_imputed9 = knn_imp.fit_transform(liquor_X2)"
   ]
  },
  {
   "cell_type": "code",
   "execution_count": null,
   "id": "c4076d1a",
   "metadata": {},
   "outputs": [],
   "source": [
    "liquor_imputed9 = pd.DataFrame.from_records(liquor_imputed9, columns=liquor_X3.columns)"
   ]
  },
  {
   "cell_type": "code",
   "execution_count": null,
   "id": "3b9aa13a",
   "metadata": {},
   "outputs": [],
   "source": [
    "from sklearn.model_selection import train_test_split\n",
    "X9 = liquor_imputed8.iloc[:,:7]\n",
    "y9 =  liquor_imputed8.iloc[:,7]\n",
    "\n",
    "X_train9, X_test9, y_train9, y_test9 = train_test_split(X9, y9, test_size = 0.3, random_state=42)"
   ]
  },
  {
   "cell_type": "code",
   "execution_count": null,
   "id": "f55551d0",
   "metadata": {},
   "outputs": [],
   "source": [
    "from sklearn.linear_model import LinearRegression\n",
    "\n",
    "linear_reg9 = LinearRegression()\n",
    "\n",
    "linear_reg9.fit(X_train9, y_train9)\n",
    "\n",
    "linear_reg9.score(X_test9, y_test9)\n",
    "#0.7272483805724858"
   ]
  },
  {
   "cell_type": "code",
   "execution_count": 51,
   "id": "64bac808",
   "metadata": {},
   "outputs": [
    {
     "data": {
      "text/html": [
       "<div>\n",
       "<style scoped>\n",
       "    .dataframe tbody tr th:only-of-type {\n",
       "        vertical-align: middle;\n",
       "    }\n",
       "\n",
       "    .dataframe tbody tr th {\n",
       "        vertical-align: top;\n",
       "    }\n",
       "\n",
       "    .dataframe thead th {\n",
       "        text-align: right;\n",
       "    }\n",
       "</style>\n",
       "<table border=\"1\" class=\"dataframe\">\n",
       "  <thead>\n",
       "    <tr style=\"text-align: right;\">\n",
       "      <th></th>\n",
       "      <th>pack</th>\n",
       "      <th>bottle_volume_ml</th>\n",
       "      <th>state_bottle_cost</th>\n",
       "      <th>state_bottle_retail</th>\n",
       "      <th>bottles_sold</th>\n",
       "      <th>volume_sold_liters</th>\n",
       "      <th>volume_sold_gallons</th>\n",
       "      <th>sale_dollars</th>\n",
       "    </tr>\n",
       "  </thead>\n",
       "  <tbody>\n",
       "    <tr>\n",
       "      <th>0</th>\n",
       "      <td>48.0</td>\n",
       "      <td>100.0</td>\n",
       "      <td>0.90</td>\n",
       "      <td>1.35</td>\n",
       "      <td>48.0</td>\n",
       "      <td>4.8</td>\n",
       "      <td>1.26</td>\n",
       "      <td>64.80</td>\n",
       "    </tr>\n",
       "    <tr>\n",
       "      <th>1</th>\n",
       "      <td>12.0</td>\n",
       "      <td>750.0</td>\n",
       "      <td>11.50</td>\n",
       "      <td>17.25</td>\n",
       "      <td>4.0</td>\n",
       "      <td>3.0</td>\n",
       "      <td>0.79</td>\n",
       "      <td>69.00</td>\n",
       "    </tr>\n",
       "    <tr>\n",
       "      <th>2</th>\n",
       "      <td>6.0</td>\n",
       "      <td>1750.0</td>\n",
       "      <td>14.75</td>\n",
       "      <td>22.13</td>\n",
       "      <td>6.0</td>\n",
       "      <td>10.5</td>\n",
       "      <td>2.77</td>\n",
       "      <td>132.78</td>\n",
       "    </tr>\n",
       "    <tr>\n",
       "      <th>3</th>\n",
       "      <td>12.0</td>\n",
       "      <td>750.0</td>\n",
       "      <td>3.31</td>\n",
       "      <td>4.97</td>\n",
       "      <td>12.0</td>\n",
       "      <td>9.0</td>\n",
       "      <td>2.37</td>\n",
       "      <td>59.64</td>\n",
       "    </tr>\n",
       "    <tr>\n",
       "      <th>4</th>\n",
       "      <td>12.0</td>\n",
       "      <td>750.0</td>\n",
       "      <td>20.99</td>\n",
       "      <td>31.49</td>\n",
       "      <td>2.0</td>\n",
       "      <td>1.5</td>\n",
       "      <td>0.39</td>\n",
       "      <td>62.98</td>\n",
       "    </tr>\n",
       "  </tbody>\n",
       "</table>\n",
       "</div>"
      ],
      "text/plain": [
       "   pack  bottle_volume_ml  state_bottle_cost  state_bottle_retail  \\\n",
       "0  48.0             100.0               0.90                 1.35   \n",
       "1  12.0             750.0              11.50                17.25   \n",
       "2   6.0            1750.0              14.75                22.13   \n",
       "3  12.0             750.0               3.31                 4.97   \n",
       "4  12.0             750.0              20.99                31.49   \n",
       "\n",
       "   bottles_sold  volume_sold_liters  volume_sold_gallons  sale_dollars  \n",
       "0          48.0                 4.8                 1.26         64.80  \n",
       "1           4.0                 3.0                 0.79         69.00  \n",
       "2           6.0                10.5                 2.77        132.78  \n",
       "3          12.0                 9.0                 2.37         59.64  \n",
       "4           2.0                 1.5                 0.39         62.98  "
      ]
     },
     "execution_count": 51,
     "metadata": {},
     "output_type": "execute_result"
    }
   ],
   "source": [
    "#Continue running from here\n",
    "liquor_imputed4.head()"
   ]
  },
  {
   "cell_type": "code",
   "execution_count": 54,
   "id": "cd3b7ddb",
   "metadata": {},
   "outputs": [],
   "source": [
    "#liquorA.drop(['pack_mean', 'bottle_volume_ml_mean', 'state_bottle_cost_mean', 'state_bottle_retail_mean',\n",
    "#       'bottles_sold_mean', 'volume_sold_liters_mean', 'volume_sold_gallons_mean',\n",
    "#       'sale_dollars_mean'], axis = 1, inplace = True)"
   ]
  },
  {
   "cell_type": "markdown",
   "id": "3451e848",
   "metadata": {},
   "source": [
    "#### Follwing shows that Imputed Data now has 0 missing values"
   ]
  },
  {
   "cell_type": "code",
   "execution_count": 53,
   "id": "f219b7ab",
   "metadata": {},
   "outputs": [
    {
     "data": {
      "text/plain": [
       "0.0"
      ]
     },
     "execution_count": 53,
     "metadata": {},
     "output_type": "execute_result"
    }
   ],
   "source": [
    "#our imputed data now has 0 missing values\n",
    "liquor_imputed5.isnull().sum().sum()/liquor.size*100"
   ]
  },
  {
   "cell_type": "markdown",
   "id": "83cfb180",
   "metadata": {},
   "source": [
    "#### Conclusive Remarks for Imputation\n",
    "*    Linear regression model was run to evaluate the imputations run on the data. From the imputed data sale_dollars variable\n",
    "     was taken as an independent variable and rest of the imputed columns as dependent variables and the scores were compared.\n",
    "     Iterative imputer with median gave the best performance with the highest score when tested on the test data. With \n",
    "     this investigative technique it showed that it is statistically significant then using mean techniques on this data. \n",
    "     \n",
    "     \n",
    "*    Summary of scores:\n",
    "*    - Mean for numerical variables : 0.7255\n",
    "     - Simple Imputer with mean : 0.7256\n",
    "     - Simple Imputer with median : 0.7253\n",
    "     - Simple Imputer with mode : 0.7252\n",
    "     - Iterative Imputer with mean : 0.7254\n",
    "     - Iterative Imputer with median : 0.738\n",
    "     - Iterative Imputer with mode : 0.7203\n",
    "     - Iterative Imputer with extra tree regressor : 0.726 \n",
    "     - Iterative Imputer with bayesian ridge : 0.7272\n",
    "     - Imputation with KNN imputer : 0.7272"
   ]
  },
  {
   "cell_type": "code",
   "execution_count": null,
   "id": "36fe75f3",
   "metadata": {},
   "outputs": [],
   "source": []
  }
 ],
 "metadata": {
  "kernelspec": {
   "display_name": "Python 3 (ipykernel)",
   "language": "python",
   "name": "python3"
  },
  "language_info": {
   "codemirror_mode": {
    "name": "ipython",
    "version": 3
   },
   "file_extension": ".py",
   "mimetype": "text/x-python",
   "name": "python",
   "nbconvert_exporter": "python",
   "pygments_lexer": "ipython3",
   "version": "3.9.12"
  }
 },
 "nbformat": 4,
 "nbformat_minor": 5
}
